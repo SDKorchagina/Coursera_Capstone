{
 "cells": [
  {
   "cell_type": "markdown",
   "metadata": {},
   "source": [
    "# Capstone\n",
    "### This project will be used for coursera Capstone course "
   ]
  },
  {
   "cell_type": "code",
   "execution_count": 101,
   "metadata": {},
   "outputs": [],
   "source": [
    "import pandas as pd\n",
    "import numpy as np\n",
    "import matplotlib.pyplot as plt\n",
    "\n",
    "from sklearn.utils import resample\n",
    "from sklearn import preprocessing"
   ]
  },
  {
   "cell_type": "code",
   "execution_count": 102,
   "metadata": {},
   "outputs": [
    {
     "name": "stderr",
     "output_type": "stream",
     "text": [
      "/Users/SvetlanaKorchagina/opt/anaconda3/lib/python3.7/site-packages/IPython/core/interactiveshell.py:3063: DtypeWarning: Columns (33) have mixed types.Specify dtype option on import or set low_memory=False.\n",
      "  interactivity=interactivity, compiler=compiler, result=result)\n"
     ]
    },
    {
     "name": "stdout",
     "output_type": "stream",
     "text": [
      "<class 'pandas.core.frame.DataFrame'>\n",
      "RangeIndex: 194673 entries, 0 to 194672\n",
      "Data columns (total 38 columns):\n",
      " #   Column          Non-Null Count   Dtype  \n",
      "---  ------          --------------   -----  \n",
      " 0   SEVERITYCODE    194673 non-null  int64  \n",
      " 1   X               189339 non-null  float64\n",
      " 2   Y               189339 non-null  float64\n",
      " 3   OBJECTID        194673 non-null  int64  \n",
      " 4   INCKEY          194673 non-null  int64  \n",
      " 5   COLDETKEY       194673 non-null  int64  \n",
      " 6   REPORTNO        194673 non-null  object \n",
      " 7   STATUS          194673 non-null  object \n",
      " 8   ADDRTYPE        192747 non-null  object \n",
      " 9   INTKEY          65070 non-null   float64\n",
      " 10  LOCATION        191996 non-null  object \n",
      " 11  EXCEPTRSNCODE   84811 non-null   object \n",
      " 12  EXCEPTRSNDESC   5638 non-null    object \n",
      " 13  SEVERITYCODE.1  194673 non-null  int64  \n",
      " 14  SEVERITYDESC    194673 non-null  object \n",
      " 15  COLLISIONTYPE   189769 non-null  object \n",
      " 16  PERSONCOUNT     194673 non-null  int64  \n",
      " 17  PEDCOUNT        194673 non-null  int64  \n",
      " 18  PEDCYLCOUNT     194673 non-null  int64  \n",
      " 19  VEHCOUNT        194673 non-null  int64  \n",
      " 20  INCDATE         194673 non-null  object \n",
      " 21  INCDTTM         194673 non-null  object \n",
      " 22  JUNCTIONTYPE    188344 non-null  object \n",
      " 23  SDOT_COLCODE    194673 non-null  int64  \n",
      " 24  SDOT_COLDESC    194673 non-null  object \n",
      " 25  INATTENTIONIND  29805 non-null   object \n",
      " 26  UNDERINFL       189789 non-null  object \n",
      " 27  WEATHER         189592 non-null  object \n",
      " 28  ROADCOND        189661 non-null  object \n",
      " 29  LIGHTCOND       189503 non-null  object \n",
      " 30  PEDROWNOTGRNT   4667 non-null    object \n",
      " 31  SDOTCOLNUM      114936 non-null  float64\n",
      " 32  SPEEDING        9333 non-null    object \n",
      " 33  ST_COLCODE      194655 non-null  object \n",
      " 34  ST_COLDESC      189769 non-null  object \n",
      " 35  SEGLANEKEY      194673 non-null  int64  \n",
      " 36  CROSSWALKKEY    194673 non-null  int64  \n",
      " 37  HITPARKEDCAR    194673 non-null  object \n",
      "dtypes: float64(4), int64(12), object(22)\n",
      "memory usage: 56.4+ MB\n"
     ]
    }
   ],
   "source": [
    "df_original = pd.read_csv('Data-Collisions.csv')\n",
    "df = df_original.copy()\n",
    "df_original.info()"
   ]
  },
  {
   "cell_type": "markdown",
   "metadata": {},
   "source": [
    "# Preprocessing"
   ]
  },
  {
   "cell_type": "code",
   "execution_count": 103,
   "metadata": {},
   "outputs": [],
   "source": [
    "columns_to_drop = ['X', 'Y','SDOTCOLNUM', 'ST_COLDESC', 'SDOT_COLDESC', 'COLDETKEY', 'INCKEY', 'OBJECTID', 'INTKEY', 'LOCATION', 'EXCEPTRSNCODE', 'EXCEPTRSNDESC', 'INCDATE', 'INATTENTIONIND', 'PEDROWNOTGRNT', 'SPEEDING']"
   ]
  },
  {
   "cell_type": "code",
   "execution_count": 104,
   "metadata": {},
   "outputs": [],
   "source": [
    "# unnessesary columns dropped\n",
    "df.drop(columns = columns_to_drop, inplace = True)"
   ]
  },
  {
   "cell_type": "code",
   "execution_count": 105,
   "metadata": {},
   "outputs": [],
   "source": [
    "# coverted column with date and time of accident to datetime format\n",
    "df['INCDTTM'] = pd.to_datetime(df['INCDTTM'])"
   ]
  },
  {
   "cell_type": "code",
   "execution_count": 106,
   "metadata": {},
   "outputs": [],
   "source": [
    "# dropping unknown\n",
    "df.drop(index = df[df['ST_COLCODE'] == ' '].index, inplace = True)\n",
    "df.dropna(axis = 0, inplace = True)"
   ]
  },
  {
   "cell_type": "code",
   "execution_count": 107,
   "metadata": {},
   "outputs": [],
   "source": [
    "# converting data in columns from str to numeric\n",
    "df['UNDERINFL'].replace(to_replace=['N','Y'], value=[0,1],inplace=True)\n",
    "df['UNDERINFL'] = pd.to_numeric(df['UNDERINFL'])\n",
    "\n",
    "df['HITPARKEDCAR'].replace(to_replace=['N','Y'], value=[0,1],inplace=True)\n",
    "df['STATUS'].replace(to_replace=['Unmatched','Matched'], value=[0,1],inplace=True)\n",
    "\n",
    "\n",
    "df['ST_COLCODE'] = pd.to_numeric(df['ST_COLCODE'])"
   ]
  },
  {
   "cell_type": "code",
   "execution_count": 108,
   "metadata": {},
   "outputs": [],
   "source": [
    "# filling nan values with Unknown \n",
    "df['WEATHER'].fillna('Unknown', inplace = True)\n",
    "df['ROADCOND'].fillna('Unknown', inplace = True)\n",
    "df['LIGHTCOND'].fillna('Unknown', inplace = True)\n",
    "df['JUNCTIONTYPE'].fillna('Unknown', inplace = True)\n",
    "df['COLLISIONTYPE'].fillna('Unknown', inplace = True)"
   ]
  },
  {
   "cell_type": "code",
   "execution_count": 109,
   "metadata": {},
   "outputs": [],
   "source": [
    "# dropping duplicates\n",
    "df.drop_duplicates(subset = 'REPORTNO', keep = 'first', inplace=True)"
   ]
  },
  {
   "cell_type": "markdown",
   "metadata": {},
   "source": [
    "# Down-sample Majority Class"
   ]
  },
  {
   "cell_type": "code",
   "execution_count": 110,
   "metadata": {},
   "outputs": [
    {
     "name": "stdout",
     "output_type": "stream",
     "text": [
      "<class 'pandas.core.frame.DataFrame'>\n",
      "Int64Index: 182892 entries, 0 to 194672\n",
      "Data columns (total 22 columns):\n",
      " #   Column          Non-Null Count   Dtype         \n",
      "---  ------          --------------   -----         \n",
      " 0   SEVERITYCODE    182892 non-null  int64         \n",
      " 1   REPORTNO        182892 non-null  object        \n",
      " 2   STATUS          182892 non-null  int64         \n",
      " 3   ADDRTYPE        182892 non-null  object        \n",
      " 4   SEVERITYCODE.1  182892 non-null  int64         \n",
      " 5   SEVERITYDESC    182892 non-null  object        \n",
      " 6   COLLISIONTYPE   182892 non-null  object        \n",
      " 7   PERSONCOUNT     182892 non-null  int64         \n",
      " 8   PEDCOUNT        182892 non-null  int64         \n",
      " 9   PEDCYLCOUNT     182892 non-null  int64         \n",
      " 10  VEHCOUNT        182892 non-null  int64         \n",
      " 11  INCDTTM         182892 non-null  datetime64[ns]\n",
      " 12  JUNCTIONTYPE    182892 non-null  object        \n",
      " 13  SDOT_COLCODE    182892 non-null  int64         \n",
      " 14  UNDERINFL       182892 non-null  int64         \n",
      " 15  WEATHER         182892 non-null  object        \n",
      " 16  ROADCOND        182892 non-null  object        \n",
      " 17  LIGHTCOND       182892 non-null  object        \n",
      " 18  ST_COLCODE      182892 non-null  int64         \n",
      " 19  SEGLANEKEY      182892 non-null  int64         \n",
      " 20  CROSSWALKKEY    182892 non-null  int64         \n",
      " 21  HITPARKEDCAR    182892 non-null  int64         \n",
      "dtypes: datetime64[ns](1), int64(13), object(8)\n",
      "memory usage: 32.1+ MB\n"
     ]
    }
   ],
   "source": [
    "df.info()"
   ]
  },
  {
   "cell_type": "code",
   "execution_count": 111,
   "metadata": {},
   "outputs": [],
   "source": [
    "# Separate majority and minority classes\n",
    "df_majority = df[df['SEVERITYCODE'] == 1]\n",
    "df_minority = df[df['SEVERITYCODE'] == 2]"
   ]
  },
  {
   "cell_type": "code",
   "execution_count": 112,
   "metadata": {},
   "outputs": [],
   "source": [
    "# Downsample majority class\n",
    "length = len(df_minority['SEVERITYCODE'])\n",
    "df_majority_downsampled = resample(df_majority, \n",
    "                                 replace = False,    # sample without replacement\n",
    "                                 n_samples = length,     # to match minority class\n",
    "                                 random_state = 0) # reproducible results"
   ]
  },
  {
   "cell_type": "code",
   "execution_count": 115,
   "metadata": {},
   "outputs": [],
   "source": [
    "# Combine minority class with downsampled majority class\n",
    "df_downsampled = pd.concat([df_majority_downsampled, df_minority])"
   ]
  },
  {
   "cell_type": "code",
   "execution_count": null,
   "metadata": {},
   "outputs": [],
   "source": []
  },
  {
   "cell_type": "code",
   "execution_count": null,
   "metadata": {},
   "outputs": [],
   "source": []
  }
 ],
 "metadata": {
  "kernelspec": {
   "display_name": "Python 3",
   "language": "python",
   "name": "python3"
  },
  "language_info": {
   "codemirror_mode": {
    "name": "ipython",
    "version": 3
   },
   "file_extension": ".py",
   "mimetype": "text/x-python",
   "name": "python",
   "nbconvert_exporter": "python",
   "pygments_lexer": "ipython3",
   "version": "3.7.6"
  }
 },
 "nbformat": 4,
 "nbformat_minor": 4
}
