{
 "cells": [
  {
   "cell_type": "markdown",
   "metadata": {},
   "source": [
    "# Capstone\n",
    "### This project will be used for coursera Capstone course "
   ]
  },
  {
   "cell_type": "code",
   "execution_count": 143,
   "metadata": {},
   "outputs": [],
   "source": [
    "import pandas as pd\n",
    "import numpy as np\n",
    "import matplotlib.pyplot as plt\n",
    "\n",
    "from sklearn.utils import resample\n",
    "from sklearn import preprocessing"
   ]
  },
  {
   "cell_type": "code",
   "execution_count": 144,
   "metadata": {},
   "outputs": [
    {
     "name": "stderr",
     "output_type": "stream",
     "text": [
      "/Users/SvetlanaKorchagina/opt/anaconda3/lib/python3.7/site-packages/IPython/core/interactiveshell.py:3063: DtypeWarning: Columns (33) have mixed types.Specify dtype option on import or set low_memory=False.\n",
      "  interactivity=interactivity, compiler=compiler, result=result)\n"
     ]
    }
   ],
   "source": [
    "df_original = pd.read_csv('Data-Collisions.csv')\n",
    "df = df_original.copy()"
   ]
  },
  {
   "cell_type": "markdown",
   "metadata": {},
   "source": [
    "# Preprocessing"
   ]
  },
  {
   "cell_type": "code",
   "execution_count": 145,
   "metadata": {},
   "outputs": [],
   "source": [
    "columns_to_drop = ['HITPARKEDCAR', 'JUNCTIONTYPE', 'STATUS', 'VEHCOUNT', 'UNDERINFL', 'WEATHER', 'ROADCOND', 'LIGHTCOND', 'SEGLANEKEY', 'INCDTTM', 'SEVERITYDESC', 'SEVERITYCODE.1', 'X', 'Y','SDOTCOLNUM', 'ST_COLDESC', 'SDOT_COLDESC', 'COLDETKEY', 'INCKEY', 'OBJECTID', 'INTKEY', 'LOCATION', 'EXCEPTRSNCODE', 'EXCEPTRSNDESC', 'INCDATE', 'INATTENTIONIND', 'PEDROWNOTGRNT', 'SPEEDING']"
   ]
  },
  {
   "cell_type": "code",
   "execution_count": 146,
   "metadata": {},
   "outputs": [],
   "source": [
    "# unnessesary columns dropped\n",
    "df.drop(columns = columns_to_drop, inplace = True)\n",
    "\n",
    "# dropping duplicates\n",
    "df.drop_duplicates(subset = 'REPORTNO', keep = 'first', inplace=True)\n",
    "df.drop(columns = ['REPORTNO'], inplace = True)"
   ]
  },
  {
   "cell_type": "code",
   "execution_count": 147,
   "metadata": {},
   "outputs": [],
   "source": [
    "# dropping unknown\n",
    "df.drop(index = df[df['ST_COLCODE'] == ' '].index, inplace = True)\n",
    "df.dropna(axis = 0, inplace = True)"
   ]
  },
  {
   "cell_type": "code",
   "execution_count": 148,
   "metadata": {},
   "outputs": [],
   "source": [
    "# filling nan values with Unknown \n",
    "df['COLLISIONTYPE'].fillna('Unknown', inplace = True)"
   ]
  },
  {
   "cell_type": "code",
   "execution_count": 149,
   "metadata": {},
   "outputs": [],
   "source": [
    "# converting data in columns from str to numeric\n",
    "df['ADDRTYPE'].replace(to_replace=['Block', 'Intersection', 'Alley'], \n",
    "                       value = [0, 1, 2], \n",
    "                       inplace = True)\n",
    "\n",
    "df['COLLISIONTYPE'].replace(to_replace=['Parked Car', 'Angles', 'Rear Ended', 'Other', 'Sideswipe', 'Left Turn', 'Pedestrian', 'Cycles', 'Right Turn', 'Head On'], \n",
    "                      value=[0, 1, 2, 3, 4, 5, 6, 7, 8, 9], \n",
    "                      inplace=True)\n",
    "\n",
    "df['ST_COLCODE'] = pd.to_numeric(df['ST_COLCODE'])"
   ]
  },
  {
   "cell_type": "code",
   "execution_count": 102,
   "metadata": {},
   "outputs": [],
   "source": [
    "# getting dummies for each str column\n",
    "columns = df[['SEVERITYCODE', 'STATUS', 'PERSONCOUNT', 'PEDCOUNT', 'PEDCYLCOUNT', \n",
    "           'VEHCOUNT', 'SDOT_COLCODE', 'UNDERINFL', 'ST_COLCODE', \n",
    "           'SEGLANEKEY', 'CROSSWALKKEY', 'HITPARKEDCAR']]\n",
    "df = pd.concat([columns, \n",
    "                pd.get_dummies(df['ADDRTYPE']), \n",
    "                pd.get_dummies(df['COLLISIONTYPE']), \n",
    "                pd.get_dummies(df['JUNCTIONTYPE']), \n",
    "                pd.get_dummies(df['WEATHER']), \n",
    "                pd.get_dummies(df['ROADCOND']), \n",
    "                pd.get_dummies(df['LIGHTCOND'])], axis=1)"
   ]
  },
  {
   "cell_type": "code",
   "execution_count": 36,
   "metadata": {},
   "outputs": [
    {
     "data": {
      "text/plain": [
       "Index(['Mid-Block (not related to intersection)',\n",
       "       'At Intersection (intersection related)',\n",
       "       'Mid-Block (but intersection related)', 'Driveway Junction',\n",
       "       'At Intersection (but not related to intersection)', 'Ramp Junction',\n",
       "       'Unknown'],\n",
       "      dtype='object')"
      ]
     },
     "execution_count": 36,
     "metadata": {},
     "output_type": "execute_result"
    }
   ],
   "source": [
    "df['JUNCTIONTYPE'].value_counts().index"
   ]
  },
  {
   "cell_type": "code",
   "execution_count": null,
   "metadata": {},
   "outputs": [],
   "source": []
  },
  {
   "cell_type": "markdown",
   "metadata": {},
   "source": [
    "# Down-sample Majority Class"
   ]
  },
  {
   "cell_type": "code",
   "execution_count": 150,
   "metadata": {},
   "outputs": [
    {
     "name": "stdout",
     "output_type": "stream",
     "text": [
      "<class 'pandas.core.frame.DataFrame'>\n",
      "Int64Index: 187947 entries, 0 to 194672\n",
      "Data columns (total 9 columns):\n",
      " #   Column         Non-Null Count   Dtype\n",
      "---  ------         --------------   -----\n",
      " 0   SEVERITYCODE   187947 non-null  int64\n",
      " 1   ADDRTYPE       187947 non-null  int64\n",
      " 2   COLLISIONTYPE  187947 non-null  int64\n",
      " 3   PERSONCOUNT    187947 non-null  int64\n",
      " 4   PEDCOUNT       187947 non-null  int64\n",
      " 5   PEDCYLCOUNT    187947 non-null  int64\n",
      " 6   SDOT_COLCODE   187947 non-null  int64\n",
      " 7   ST_COLCODE     187947 non-null  int64\n",
      " 8   CROSSWALKKEY   187947 non-null  int64\n",
      "dtypes: int64(9)\n",
      "memory usage: 14.3 MB\n"
     ]
    }
   ],
   "source": [
    "df.info()"
   ]
  },
  {
   "cell_type": "code",
   "execution_count": 151,
   "metadata": {},
   "outputs": [],
   "source": [
    "# Separate majority and minority classes\n",
    "df_majority = df[df['SEVERITYCODE'] == 1]\n",
    "df_minority = df[df['SEVERITYCODE'] == 2]"
   ]
  },
  {
   "cell_type": "code",
   "execution_count": 152,
   "metadata": {},
   "outputs": [],
   "source": [
    "# Downsample majority class\n",
    "length = len(df_minority['SEVERITYCODE'])\n",
    "df_majority_downsampled = resample(df_majority, \n",
    "                                 replace = False,    # sample without replacement\n",
    "                                 n_samples = length,     # to match minority class\n",
    "                                 random_state = 0) # reproducible results"
   ]
  },
  {
   "cell_type": "code",
   "execution_count": 153,
   "metadata": {},
   "outputs": [],
   "source": [
    "# Combine minority class with downsampled majority class\n",
    "df_downsampled = pd.concat([df_majority_downsampled, df_minority])"
   ]
  },
  {
   "cell_type": "markdown",
   "metadata": {},
   "source": [
    "# Training"
   ]
  },
  {
   "cell_type": "code",
   "execution_count": 154,
   "metadata": {},
   "outputs": [],
   "source": [
    "from sklearn import metrics\n",
    "from sklearn.model_selection import train_test_split\n",
    "from sklearn.ensemble import GradientBoostingClassifier\n",
    "from sklearn.neighbors import KNeighborsClassifier\n",
    "from sklearn.tree import DecisionTreeClassifier\n",
    "from sklearn import svm\n",
    "from sklearn.linear_model import LogisticRegression"
   ]
  },
  {
   "cell_type": "code",
   "execution_count": 155,
   "metadata": {},
   "outputs": [],
   "source": [
    "#deviding into x and y\n",
    "y = df_downsampled['SEVERITYCODE']\n",
    "X = df_downsampled[df_downsampled.columns[1:]]\n",
    "\n",
    "X = preprocessing.StandardScaler().fit(X).transform(X)"
   ]
  },
  {
   "cell_type": "code",
   "execution_count": 156,
   "metadata": {},
   "outputs": [],
   "source": [
    "#train test split and model fitting\n",
    "X_train, X_test, y_train, y_test = train_test_split(X, y)\n",
    "\n",
    "clf = GradientBoostingClassifier().fit(X_train, y_train)"
   ]
  },
  {
   "cell_type": "code",
   "execution_count": 157,
   "metadata": {},
   "outputs": [],
   "source": [
    "tree = DecisionTreeClassifier(criterion=\"entropy\", max_depth = 7).fit(X_train, y_train)"
   ]
  },
  {
   "cell_type": "code",
   "execution_count": 158,
   "metadata": {},
   "outputs": [],
   "source": [
    "reg = LogisticRegression(C=0.5, solver='liblinear').fit(X_train,y_train)"
   ]
  },
  {
   "cell_type": "code",
   "execution_count": 159,
   "metadata": {},
   "outputs": [
    {
     "name": "stderr",
     "output_type": "stream",
     "text": [
      "/Users/SvetlanaKorchagina/opt/anaconda3/lib/python3.7/site-packages/sklearn/metrics/_classification.py:664: FutureWarning: jaccard_similarity_score has been deprecated and replaced with jaccard_score. It will be removed in version 0.23. This implementation has surprising behavior for binary and multiclass classification tasks.\n",
      "  FutureWarning)\n",
      "/Users/SvetlanaKorchagina/opt/anaconda3/lib/python3.7/site-packages/sklearn/metrics/_classification.py:664: FutureWarning: jaccard_similarity_score has been deprecated and replaced with jaccard_score. It will be removed in version 0.23. This implementation has surprising behavior for binary and multiclass classification tasks.\n",
      "  FutureWarning)\n",
      "/Users/SvetlanaKorchagina/opt/anaconda3/lib/python3.7/site-packages/sklearn/metrics/_classification.py:664: FutureWarning: jaccard_similarity_score has been deprecated and replaced with jaccard_score. It will be removed in version 0.23. This implementation has surprising behavior for binary and multiclass classification tasks.\n",
      "  FutureWarning)\n"
     ]
    }
   ],
   "source": [
    "from sklearn.metrics import jaccard_similarity_score\n",
    "from sklearn.metrics import f1_score\n",
    "\n",
    "index = ['Gradient Boost', 'Decision Tree', 'LogisticRegression']\n",
    "\n",
    "report_clf = [metrics.accuracy_score(y_train, clf.predict(X_train)), \n",
    "              metrics.accuracy_score(y_test, clf.predict(X_test)), \n",
    "              jaccard_similarity_score(y_test, clf.predict(X_test)), \n",
    "              f1_score(y_test, clf.predict(X_test), average='weighted')]\n",
    "\n",
    "report_tree = [metrics.accuracy_score(y_train, tree.predict(X_train)), \n",
    "               metrics.accuracy_score(y_test, tree.predict(X_test)), \n",
    "               jaccard_similarity_score(y_test, tree.predict(X_test)), \n",
    "               f1_score(y_test, tree.predict(X_test), average='weighted')]\n",
    "\n",
    "report_reg = [metrics.accuracy_score(y_train, reg.predict(X_train)), \n",
    "              metrics.accuracy_score(y_test, reg.predict(X_test)), \n",
    "              jaccard_similarity_score(y_test, reg.predict(X_test)), \n",
    "              f1_score(y_test, reg.predict(X_test), average='weighted')]"
   ]
  },
  {
   "cell_type": "code",
   "execution_count": 160,
   "metadata": {},
   "outputs": [],
   "source": [
    "report = pd.DataFrame([report_clf, report_tree, report_reg], \n",
    "                      index = index, \n",
    "                      columns = ['Train set Accuracy', 'Test set Accuracy', 'Jaccard', 'F1-score'])"
   ]
  },
  {
   "cell_type": "code",
   "execution_count": 161,
   "metadata": {},
   "outputs": [
    {
     "data": {
      "text/html": [
       "<div>\n",
       "<style scoped>\n",
       "    .dataframe tbody tr th:only-of-type {\n",
       "        vertical-align: middle;\n",
       "    }\n",
       "\n",
       "    .dataframe tbody tr th {\n",
       "        vertical-align: top;\n",
       "    }\n",
       "\n",
       "    .dataframe thead th {\n",
       "        text-align: right;\n",
       "    }\n",
       "</style>\n",
       "<table border=\"1\" class=\"dataframe\">\n",
       "  <thead>\n",
       "    <tr style=\"text-align: right;\">\n",
       "      <th></th>\n",
       "      <th>Train set Accuracy</th>\n",
       "      <th>Test set Accuracy</th>\n",
       "      <th>Jaccard</th>\n",
       "      <th>F1-score</th>\n",
       "    </tr>\n",
       "  </thead>\n",
       "  <tbody>\n",
       "    <tr>\n",
       "      <th>Gradient Boost</th>\n",
       "      <td>0.717699</td>\n",
       "      <td>0.719110</td>\n",
       "      <td>0.719110</td>\n",
       "      <td>0.717043</td>\n",
       "    </tr>\n",
       "    <tr>\n",
       "      <th>Decision Tree</th>\n",
       "      <td>0.715499</td>\n",
       "      <td>0.716723</td>\n",
       "      <td>0.716723</td>\n",
       "      <td>0.715555</td>\n",
       "    </tr>\n",
       "    <tr>\n",
       "      <th>LogisticRegression</th>\n",
       "      <td>0.650383</td>\n",
       "      <td>0.649888</td>\n",
       "      <td>0.649888</td>\n",
       "      <td>0.649637</td>\n",
       "    </tr>\n",
       "  </tbody>\n",
       "</table>\n",
       "</div>"
      ],
      "text/plain": [
       "                    Train set Accuracy  Test set Accuracy   Jaccard  F1-score\n",
       "Gradient Boost                0.717699           0.719110  0.719110  0.717043\n",
       "Decision Tree                 0.715499           0.716723  0.716723  0.715555\n",
       "LogisticRegression            0.650383           0.649888  0.649888  0.649637"
      ]
     },
     "execution_count": 161,
     "metadata": {},
     "output_type": "execute_result"
    }
   ],
   "source": [
    "report"
   ]
  },
  {
   "cell_type": "code",
   "execution_count": 84,
   "metadata": {},
   "outputs": [
    {
     "data": {
      "text/html": [
       "<div>\n",
       "<style scoped>\n",
       "    .dataframe tbody tr th:only-of-type {\n",
       "        vertical-align: middle;\n",
       "    }\n",
       "\n",
       "    .dataframe tbody tr th {\n",
       "        vertical-align: top;\n",
       "    }\n",
       "\n",
       "    .dataframe thead th {\n",
       "        text-align: right;\n",
       "    }\n",
       "</style>\n",
       "<table border=\"1\" class=\"dataframe\">\n",
       "  <thead>\n",
       "    <tr style=\"text-align: right;\">\n",
       "      <th></th>\n",
       "      <th>Train set Accuracy</th>\n",
       "      <th>Test set Accuracy</th>\n",
       "      <th>Jaccard</th>\n",
       "      <th>F1-score</th>\n",
       "    </tr>\n",
       "  </thead>\n",
       "  <tbody>\n",
       "    <tr>\n",
       "      <th>Gradient Boost</th>\n",
       "      <td>0.717027</td>\n",
       "      <td>0.705955</td>\n",
       "      <td>0.705955</td>\n",
       "      <td>0.703494</td>\n",
       "    </tr>\n",
       "    <tr>\n",
       "      <th>Decision Tree</th>\n",
       "      <td>0.712695</td>\n",
       "      <td>0.702423</td>\n",
       "      <td>0.702423</td>\n",
       "      <td>0.698738</td>\n",
       "    </tr>\n",
       "    <tr>\n",
       "      <th>LogisticRegression</th>\n",
       "      <td>0.660984</td>\n",
       "      <td>0.652444</td>\n",
       "      <td>0.652444</td>\n",
       "      <td>0.652290</td>\n",
       "    </tr>\n",
       "  </tbody>\n",
       "</table>\n",
       "</div>"
      ],
      "text/plain": [
       "                    Train set Accuracy  Test set Accuracy   Jaccard  F1-score\n",
       "Gradient Boost                0.717027           0.705955  0.705955  0.703494\n",
       "Decision Tree                 0.712695           0.702423  0.702423  0.698738\n",
       "LogisticRegression            0.660984           0.652444  0.652444  0.652290"
      ]
     },
     "execution_count": 84,
     "metadata": {},
     "output_type": "execute_result"
    }
   ],
   "source": [
    "report"
   ]
  },
  {
   "cell_type": "code",
   "execution_count": 88,
   "metadata": {},
   "outputs": [
    {
     "data": {
      "text/html": [
       "<div>\n",
       "<style scoped>\n",
       "    .dataframe tbody tr th:only-of-type {\n",
       "        vertical-align: middle;\n",
       "    }\n",
       "\n",
       "    .dataframe tbody tr th {\n",
       "        vertical-align: top;\n",
       "    }\n",
       "\n",
       "    .dataframe thead th {\n",
       "        text-align: right;\n",
       "    }\n",
       "</style>\n",
       "<table border=\"1\" class=\"dataframe\">\n",
       "  <thead>\n",
       "    <tr style=\"text-align: right;\">\n",
       "      <th></th>\n",
       "      <th>Train set Accuracy</th>\n",
       "      <th>Test set Accuracy</th>\n",
       "      <th>Jaccard</th>\n",
       "      <th>F1-score</th>\n",
       "    </tr>\n",
       "  </thead>\n",
       "  <tbody>\n",
       "    <tr>\n",
       "      <th>Gradient Boost</th>\n",
       "      <td>0.717027</td>\n",
       "      <td>0.705955</td>\n",
       "      <td>0.705955</td>\n",
       "      <td>0.703494</td>\n",
       "    </tr>\n",
       "    <tr>\n",
       "      <th>Decision Tree</th>\n",
       "      <td>0.712695</td>\n",
       "      <td>0.702423</td>\n",
       "      <td>0.702423</td>\n",
       "      <td>0.698738</td>\n",
       "    </tr>\n",
       "    <tr>\n",
       "      <th>LogisticRegression</th>\n",
       "      <td>0.659665</td>\n",
       "      <td>0.651243</td>\n",
       "      <td>0.651243</td>\n",
       "      <td>0.651116</td>\n",
       "    </tr>\n",
       "  </tbody>\n",
       "</table>\n",
       "</div>"
      ],
      "text/plain": [
       "                    Train set Accuracy  Test set Accuracy   Jaccard  F1-score\n",
       "Gradient Boost                0.717027           0.705955  0.705955  0.703494\n",
       "Decision Tree                 0.712695           0.702423  0.702423  0.698738\n",
       "LogisticRegression            0.659665           0.651243  0.651243  0.651116"
      ]
     },
     "execution_count": 88,
     "metadata": {},
     "output_type": "execute_result"
    }
   ],
   "source": [
    "report"
   ]
  },
  {
   "cell_type": "code",
   "execution_count": 94,
   "metadata": {},
   "outputs": [
    {
     "data": {
      "text/html": [
       "<div>\n",
       "<style scoped>\n",
       "    .dataframe tbody tr th:only-of-type {\n",
       "        vertical-align: middle;\n",
       "    }\n",
       "\n",
       "    .dataframe tbody tr th {\n",
       "        vertical-align: top;\n",
       "    }\n",
       "\n",
       "    .dataframe thead th {\n",
       "        text-align: right;\n",
       "    }\n",
       "</style>\n",
       "<table border=\"1\" class=\"dataframe\">\n",
       "  <thead>\n",
       "    <tr style=\"text-align: right;\">\n",
       "      <th></th>\n",
       "      <th>Train set Accuracy</th>\n",
       "      <th>Test set Accuracy</th>\n",
       "      <th>Jaccard</th>\n",
       "      <th>F1-score</th>\n",
       "    </tr>\n",
       "  </thead>\n",
       "  <tbody>\n",
       "    <tr>\n",
       "      <th>Gradient Boost</th>\n",
       "      <td>0.717027</td>\n",
       "      <td>0.705955</td>\n",
       "      <td>0.705955</td>\n",
       "      <td>0.703494</td>\n",
       "    </tr>\n",
       "    <tr>\n",
       "      <th>Decision Tree</th>\n",
       "      <td>0.712695</td>\n",
       "      <td>0.702423</td>\n",
       "      <td>0.702423</td>\n",
       "      <td>0.698738</td>\n",
       "    </tr>\n",
       "    <tr>\n",
       "      <th>LogisticRegression</th>\n",
       "      <td>0.660984</td>\n",
       "      <td>0.652444</td>\n",
       "      <td>0.652444</td>\n",
       "      <td>0.652290</td>\n",
       "    </tr>\n",
       "  </tbody>\n",
       "</table>\n",
       "</div>"
      ],
      "text/plain": [
       "                    Train set Accuracy  Test set Accuracy   Jaccard  F1-score\n",
       "Gradient Boost                0.717027           0.705955  0.705955  0.703494\n",
       "Decision Tree                 0.712695           0.702423  0.702423  0.698738\n",
       "LogisticRegression            0.660984           0.652444  0.652444  0.652290"
      ]
     },
     "execution_count": 94,
     "metadata": {},
     "output_type": "execute_result"
    }
   ],
   "source": [
    "report"
   ]
  },
  {
   "cell_type": "code",
   "execution_count": 142,
   "metadata": {},
   "outputs": [
    {
     "data": {
      "text/html": [
       "<div>\n",
       "<style scoped>\n",
       "    .dataframe tbody tr th:only-of-type {\n",
       "        vertical-align: middle;\n",
       "    }\n",
       "\n",
       "    .dataframe tbody tr th {\n",
       "        vertical-align: top;\n",
       "    }\n",
       "\n",
       "    .dataframe thead th {\n",
       "        text-align: right;\n",
       "    }\n",
       "</style>\n",
       "<table border=\"1\" class=\"dataframe\">\n",
       "  <thead>\n",
       "    <tr style=\"text-align: right;\">\n",
       "      <th></th>\n",
       "      <th>SEVERITYCODE</th>\n",
       "      <th>ADDRTYPE</th>\n",
       "      <th>COLLISIONTYPE</th>\n",
       "      <th>PERSONCOUNT</th>\n",
       "      <th>PEDCOUNT</th>\n",
       "      <th>PEDCYLCOUNT</th>\n",
       "      <th>JUNCTIONTYPE</th>\n",
       "      <th>SDOT_COLCODE</th>\n",
       "      <th>ST_COLCODE</th>\n",
       "      <th>CROSSWALKKEY</th>\n",
       "      <th>HITPARKEDCAR</th>\n",
       "    </tr>\n",
       "  </thead>\n",
       "  <tbody>\n",
       "    <tr>\n",
       "      <th>SEVERITYCODE</th>\n",
       "      <td>1.000000</td>\n",
       "      <td>0.199868</td>\n",
       "      <td>0.261013</td>\n",
       "      <td>0.126854</td>\n",
       "      <td>0.217089</td>\n",
       "      <td>0.189525</td>\n",
       "      <td>0.110143</td>\n",
       "      <td>0.162395</td>\n",
       "      <td>-0.167216</td>\n",
       "      <td>0.153840</td>\n",
       "      <td>-0.112609</td>\n",
       "    </tr>\n",
       "    <tr>\n",
       "      <th>ADDRTYPE</th>\n",
       "      <td>0.199868</td>\n",
       "      <td>1.000000</td>\n",
       "      <td>0.197349</td>\n",
       "      <td>0.041952</td>\n",
       "      <td>0.158857</td>\n",
       "      <td>0.084928</td>\n",
       "      <td>0.207435</td>\n",
       "      <td>-0.058690</td>\n",
       "      <td>-0.197837</td>\n",
       "      <td>0.199926</td>\n",
       "      <td>-0.117026</td>\n",
       "    </tr>\n",
       "    <tr>\n",
       "      <th>COLLISIONTYPE</th>\n",
       "      <td>0.261013</td>\n",
       "      <td>0.197349</td>\n",
       "      <td>1.000000</td>\n",
       "      <td>-0.028345</td>\n",
       "      <td>0.356358</td>\n",
       "      <td>0.427172</td>\n",
       "      <td>0.114241</td>\n",
       "      <td>0.359609</td>\n",
       "      <td>0.038857</td>\n",
       "      <td>0.276874</td>\n",
       "      <td>-0.172787</td>\n",
       "    </tr>\n",
       "    <tr>\n",
       "      <th>PERSONCOUNT</th>\n",
       "      <td>0.126854</td>\n",
       "      <td>0.041952</td>\n",
       "      <td>-0.028345</td>\n",
       "      <td>1.000000</td>\n",
       "      <td>-0.042746</td>\n",
       "      <td>-0.060168</td>\n",
       "      <td>0.049361</td>\n",
       "      <td>-0.169015</td>\n",
       "      <td>-0.197164</td>\n",
       "      <td>-0.048852</td>\n",
       "      <td>-0.043407</td>\n",
       "    </tr>\n",
       "    <tr>\n",
       "      <th>PEDCOUNT</th>\n",
       "      <td>0.217089</td>\n",
       "      <td>0.158857</td>\n",
       "      <td>0.356358</td>\n",
       "      <td>-0.042746</td>\n",
       "      <td>1.000000</td>\n",
       "      <td>-0.035761</td>\n",
       "      <td>0.013429</td>\n",
       "      <td>0.298971</td>\n",
       "      <td>-0.310253</td>\n",
       "      <td>0.566796</td>\n",
       "      <td>-0.035484</td>\n",
       "    </tr>\n",
       "    <tr>\n",
       "      <th>PEDCYLCOUNT</th>\n",
       "      <td>0.189525</td>\n",
       "      <td>0.084928</td>\n",
       "      <td>0.427172</td>\n",
       "      <td>-0.060168</td>\n",
       "      <td>-0.035761</td>\n",
       "      <td>1.000000</td>\n",
       "      <td>0.036806</td>\n",
       "      <td>0.449375</td>\n",
       "      <td>0.262021</td>\n",
       "      <td>0.096818</td>\n",
       "      <td>-0.030896</td>\n",
       "    </tr>\n",
       "    <tr>\n",
       "      <th>JUNCTIONTYPE</th>\n",
       "      <td>0.110143</td>\n",
       "      <td>0.207435</td>\n",
       "      <td>0.114241</td>\n",
       "      <td>0.049361</td>\n",
       "      <td>0.013429</td>\n",
       "      <td>0.036806</td>\n",
       "      <td>1.000000</td>\n",
       "      <td>-0.043146</td>\n",
       "      <td>-0.133172</td>\n",
       "      <td>0.028740</td>\n",
       "      <td>-0.107903</td>\n",
       "    </tr>\n",
       "    <tr>\n",
       "      <th>SDOT_COLCODE</th>\n",
       "      <td>0.162395</td>\n",
       "      <td>-0.058690</td>\n",
       "      <td>0.359609</td>\n",
       "      <td>-0.169015</td>\n",
       "      <td>0.298971</td>\n",
       "      <td>0.449375</td>\n",
       "      <td>-0.043146</td>\n",
       "      <td>1.000000</td>\n",
       "      <td>0.319313</td>\n",
       "      <td>0.210428</td>\n",
       "      <td>-0.060241</td>\n",
       "    </tr>\n",
       "    <tr>\n",
       "      <th>ST_COLCODE</th>\n",
       "      <td>-0.167216</td>\n",
       "      <td>-0.197837</td>\n",
       "      <td>0.038857</td>\n",
       "      <td>-0.197164</td>\n",
       "      <td>-0.310253</td>\n",
       "      <td>0.262021</td>\n",
       "      <td>-0.133172</td>\n",
       "      <td>0.319313</td>\n",
       "      <td>1.000000</td>\n",
       "      <td>-0.160762</td>\n",
       "      <td>0.106608</td>\n",
       "    </tr>\n",
       "    <tr>\n",
       "      <th>CROSSWALKKEY</th>\n",
       "      <td>0.153840</td>\n",
       "      <td>0.199926</td>\n",
       "      <td>0.276874</td>\n",
       "      <td>-0.048852</td>\n",
       "      <td>0.566796</td>\n",
       "      <td>0.096818</td>\n",
       "      <td>0.028740</td>\n",
       "      <td>0.210428</td>\n",
       "      <td>-0.160762</td>\n",
       "      <td>1.000000</td>\n",
       "      <td>-0.027191</td>\n",
       "    </tr>\n",
       "    <tr>\n",
       "      <th>HITPARKEDCAR</th>\n",
       "      <td>-0.112609</td>\n",
       "      <td>-0.117026</td>\n",
       "      <td>-0.172787</td>\n",
       "      <td>-0.043407</td>\n",
       "      <td>-0.035484</td>\n",
       "      <td>-0.030896</td>\n",
       "      <td>-0.107903</td>\n",
       "      <td>-0.060241</td>\n",
       "      <td>0.106608</td>\n",
       "      <td>-0.027191</td>\n",
       "      <td>1.000000</td>\n",
       "    </tr>\n",
       "  </tbody>\n",
       "</table>\n",
       "</div>"
      ],
      "text/plain": [
       "               SEVERITYCODE  ADDRTYPE  COLLISIONTYPE  PERSONCOUNT  PEDCOUNT  \\\n",
       "SEVERITYCODE       1.000000  0.199868       0.261013     0.126854  0.217089   \n",
       "ADDRTYPE           0.199868  1.000000       0.197349     0.041952  0.158857   \n",
       "COLLISIONTYPE      0.261013  0.197349       1.000000    -0.028345  0.356358   \n",
       "PERSONCOUNT        0.126854  0.041952      -0.028345     1.000000 -0.042746   \n",
       "PEDCOUNT           0.217089  0.158857       0.356358    -0.042746  1.000000   \n",
       "PEDCYLCOUNT        0.189525  0.084928       0.427172    -0.060168 -0.035761   \n",
       "JUNCTIONTYPE       0.110143  0.207435       0.114241     0.049361  0.013429   \n",
       "SDOT_COLCODE       0.162395 -0.058690       0.359609    -0.169015  0.298971   \n",
       "ST_COLCODE        -0.167216 -0.197837       0.038857    -0.197164 -0.310253   \n",
       "CROSSWALKKEY       0.153840  0.199926       0.276874    -0.048852  0.566796   \n",
       "HITPARKEDCAR      -0.112609 -0.117026      -0.172787    -0.043407 -0.035484   \n",
       "\n",
       "               PEDCYLCOUNT  JUNCTIONTYPE  SDOT_COLCODE  ST_COLCODE  \\\n",
       "SEVERITYCODE      0.189525      0.110143      0.162395   -0.167216   \n",
       "ADDRTYPE          0.084928      0.207435     -0.058690   -0.197837   \n",
       "COLLISIONTYPE     0.427172      0.114241      0.359609    0.038857   \n",
       "PERSONCOUNT      -0.060168      0.049361     -0.169015   -0.197164   \n",
       "PEDCOUNT         -0.035761      0.013429      0.298971   -0.310253   \n",
       "PEDCYLCOUNT       1.000000      0.036806      0.449375    0.262021   \n",
       "JUNCTIONTYPE      0.036806      1.000000     -0.043146   -0.133172   \n",
       "SDOT_COLCODE      0.449375     -0.043146      1.000000    0.319313   \n",
       "ST_COLCODE        0.262021     -0.133172      0.319313    1.000000   \n",
       "CROSSWALKKEY      0.096818      0.028740      0.210428   -0.160762   \n",
       "HITPARKEDCAR     -0.030896     -0.107903     -0.060241    0.106608   \n",
       "\n",
       "               CROSSWALKKEY  HITPARKEDCAR  \n",
       "SEVERITYCODE       0.153840     -0.112609  \n",
       "ADDRTYPE           0.199926     -0.117026  \n",
       "COLLISIONTYPE      0.276874     -0.172787  \n",
       "PERSONCOUNT       -0.048852     -0.043407  \n",
       "PEDCOUNT           0.566796     -0.035484  \n",
       "PEDCYLCOUNT        0.096818     -0.030896  \n",
       "JUNCTIONTYPE       0.028740     -0.107903  \n",
       "SDOT_COLCODE       0.210428     -0.060241  \n",
       "ST_COLCODE        -0.160762      0.106608  \n",
       "CROSSWALKKEY       1.000000     -0.027191  \n",
       "HITPARKEDCAR      -0.027191      1.000000  "
      ]
     },
     "execution_count": 142,
     "metadata": {},
     "output_type": "execute_result"
    }
   ],
   "source": [
    "df_downsampled.corr()"
   ]
  },
  {
   "cell_type": "code",
   "execution_count": null,
   "metadata": {},
   "outputs": [],
   "source": [
    "'STATUS', 'VEHCOUNT', 'UNDERINFL', 'WEATHER', 'ROADCOND', 'LIGHTCOND', 'SEGLANEKEY', "
   ]
  }
 ],
 "metadata": {
  "kernelspec": {
   "display_name": "Python 3",
   "language": "python",
   "name": "python3"
  },
  "language_info": {
   "codemirror_mode": {
    "name": "ipython",
    "version": 3
   },
   "file_extension": ".py",
   "mimetype": "text/x-python",
   "name": "python",
   "nbconvert_exporter": "python",
   "pygments_lexer": "ipython3",
   "version": "3.7.6"
  }
 },
 "nbformat": 4,
 "nbformat_minor": 4
}
