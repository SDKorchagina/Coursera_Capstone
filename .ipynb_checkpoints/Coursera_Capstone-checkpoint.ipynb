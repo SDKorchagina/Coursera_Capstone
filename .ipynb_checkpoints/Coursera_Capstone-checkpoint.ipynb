{
 "cells": [
  {
   "cell_type": "markdown",
   "metadata": {},
   "source": [
    "# Capstone\n",
    "### This project will be used for coursera Capstone course "
   ]
  },
  {
   "cell_type": "code",
   "execution_count": 1,
   "metadata": {},
   "outputs": [],
   "source": [
    "import pandas as pd\n",
    "import numpy as np\n",
    "import matplotlib.pyplot as plt\n",
    "\n",
    "from sklearn.utils import resample\n",
    "from sklearn import preprocessing"
   ]
  },
  {
   "cell_type": "code",
   "execution_count": 2,
   "metadata": {},
   "outputs": [
    {
     "name": "stderr",
     "output_type": "stream",
     "text": [
      "/Users/SvetlanaKorchagina/opt/anaconda3/lib/python3.7/site-packages/IPython/core/interactiveshell.py:3063: DtypeWarning: Columns (33) have mixed types.Specify dtype option on import or set low_memory=False.\n",
      "  interactivity=interactivity, compiler=compiler, result=result)\n"
     ]
    },
    {
     "name": "stdout",
     "output_type": "stream",
     "text": [
      "<class 'pandas.core.frame.DataFrame'>\n",
      "RangeIndex: 194673 entries, 0 to 194672\n",
      "Data columns (total 38 columns):\n",
      " #   Column          Non-Null Count   Dtype  \n",
      "---  ------          --------------   -----  \n",
      " 0   SEVERITYCODE    194673 non-null  int64  \n",
      " 1   X               189339 non-null  float64\n",
      " 2   Y               189339 non-null  float64\n",
      " 3   OBJECTID        194673 non-null  int64  \n",
      " 4   INCKEY          194673 non-null  int64  \n",
      " 5   COLDETKEY       194673 non-null  int64  \n",
      " 6   REPORTNO        194673 non-null  object \n",
      " 7   STATUS          194673 non-null  object \n",
      " 8   ADDRTYPE        192747 non-null  object \n",
      " 9   INTKEY          65070 non-null   float64\n",
      " 10  LOCATION        191996 non-null  object \n",
      " 11  EXCEPTRSNCODE   84811 non-null   object \n",
      " 12  EXCEPTRSNDESC   5638 non-null    object \n",
      " 13  SEVERITYCODE.1  194673 non-null  int64  \n",
      " 14  SEVERITYDESC    194673 non-null  object \n",
      " 15  COLLISIONTYPE   189769 non-null  object \n",
      " 16  PERSONCOUNT     194673 non-null  int64  \n",
      " 17  PEDCOUNT        194673 non-null  int64  \n",
      " 18  PEDCYLCOUNT     194673 non-null  int64  \n",
      " 19  VEHCOUNT        194673 non-null  int64  \n",
      " 20  INCDATE         194673 non-null  object \n",
      " 21  INCDTTM         194673 non-null  object \n",
      " 22  JUNCTIONTYPE    188344 non-null  object \n",
      " 23  SDOT_COLCODE    194673 non-null  int64  \n",
      " 24  SDOT_COLDESC    194673 non-null  object \n",
      " 25  INATTENTIONIND  29805 non-null   object \n",
      " 26  UNDERINFL       189789 non-null  object \n",
      " 27  WEATHER         189592 non-null  object \n",
      " 28  ROADCOND        189661 non-null  object \n",
      " 29  LIGHTCOND       189503 non-null  object \n",
      " 30  PEDROWNOTGRNT   4667 non-null    object \n",
      " 31  SDOTCOLNUM      114936 non-null  float64\n",
      " 32  SPEEDING        9333 non-null    object \n",
      " 33  ST_COLCODE      194655 non-null  object \n",
      " 34  ST_COLDESC      189769 non-null  object \n",
      " 35  SEGLANEKEY      194673 non-null  int64  \n",
      " 36  CROSSWALKKEY    194673 non-null  int64  \n",
      " 37  HITPARKEDCAR    194673 non-null  object \n",
      "dtypes: float64(4), int64(12), object(22)\n",
      "memory usage: 56.4+ MB\n"
     ]
    }
   ],
   "source": [
    "df_original = pd.read_csv('Data-Collisions.csv')\n",
    "df = df_original.copy()\n",
    "df_original.info()"
   ]
  },
  {
   "cell_type": "markdown",
   "metadata": {},
   "source": [
    "# Preprocessing"
   ]
  },
  {
   "cell_type": "code",
   "execution_count": 3,
   "metadata": {},
   "outputs": [],
   "source": [
    "columns_to_drop = ['INCDTTM', 'SEVERITYDESC', 'SEVERITYCODE.1', 'X', 'Y','SDOTCOLNUM', 'ST_COLDESC', 'SDOT_COLDESC', 'COLDETKEY', 'INCKEY', 'OBJECTID', 'INTKEY', 'LOCATION', 'EXCEPTRSNCODE', 'EXCEPTRSNDESC', 'INCDATE', 'INATTENTIONIND', 'PEDROWNOTGRNT', 'SPEEDING']"
   ]
  },
  {
   "cell_type": "code",
   "execution_count": 4,
   "metadata": {},
   "outputs": [],
   "source": [
    "# unnessesary columns dropped\n",
    "df.drop(columns = columns_to_drop, inplace = True)\n",
    "\n",
    "# dropping duplicates\n",
    "df.drop_duplicates(subset = 'REPORTNO', keep = 'first', inplace=True)\n",
    "df.drop(columns = ['REPORTNO'], inplace = True)"
   ]
  },
  {
   "cell_type": "code",
   "execution_count": 5,
   "metadata": {},
   "outputs": [],
   "source": [
    "# coverted column with date and time of accident to datetime format\n",
    "#df['INCDTTM'] = pd.to_datetime(df['INCDTTM'])"
   ]
  },
  {
   "cell_type": "code",
   "execution_count": 6,
   "metadata": {},
   "outputs": [],
   "source": [
    "# dropping unknown\n",
    "df.drop(index = df[df['ST_COLCODE'] == ' '].index, inplace = True)\n",
    "df.dropna(axis = 0, inplace = True)"
   ]
  },
  {
   "cell_type": "code",
   "execution_count": 7,
   "metadata": {},
   "outputs": [],
   "source": [
    "# converting data in columns from str to numeric\n",
    "df['UNDERINFL'].replace(to_replace=['N','Y'], value=[0,1],inplace=True)\n",
    "df['UNDERINFL'] = pd.to_numeric(df['UNDERINFL'])\n",
    "\n",
    "df['HITPARKEDCAR'].replace(to_replace=['N','Y'], value=[0,1],inplace=True)\n",
    "df['STATUS'].replace(to_replace=['Unmatched','Matched'], value=[0,1],inplace=True)\n",
    "\n",
    "df['ST_COLCODE'] = pd.to_numeric(df['ST_COLCODE'])"
   ]
  },
  {
   "cell_type": "code",
   "execution_count": 8,
   "metadata": {},
   "outputs": [],
   "source": [
    "# filling nan values with Unknown \n",
    "df['WEATHER'].fillna('Unknown', inplace = True)\n",
    "df['ROADCOND'].fillna('Unknown', inplace = True)\n",
    "df['LIGHTCOND'].fillna('Unknown', inplace = True)\n",
    "df['JUNCTIONTYPE'].fillna('Unknown', inplace = True)\n",
    "df['COLLISIONTYPE'].fillna('Unknown', inplace = True)"
   ]
  },
  {
   "cell_type": "code",
   "execution_count": 9,
   "metadata": {},
   "outputs": [],
   "source": [
    "# getting dummies for each str column\n",
    "columns = df[['SEVERITYCODE', 'STATUS', 'PERSONCOUNT', 'PEDCOUNT', 'PEDCYLCOUNT', \n",
    "           'VEHCOUNT', 'SDOT_COLCODE', 'UNDERINFL', 'ST_COLCODE', \n",
    "           'SEGLANEKEY', 'CROSSWALKKEY', 'HITPARKEDCAR']]\n",
    "df = pd.concat([columns, \n",
    "                pd.get_dummies(df['ADDRTYPE']), \n",
    "                pd.get_dummies(df['COLLISIONTYPE']), \n",
    "                pd.get_dummies(df['JUNCTIONTYPE']), \n",
    "                pd.get_dummies(df['WEATHER']), \n",
    "                pd.get_dummies(df['ROADCOND']), \n",
    "                pd.get_dummies(df['LIGHTCOND'])], axis=1)"
   ]
  },
  {
   "cell_type": "code",
   "execution_count": null,
   "metadata": {},
   "outputs": [],
   "source": []
  },
  {
   "cell_type": "markdown",
   "metadata": {},
   "source": [
    "# Down-sample Majority Class"
   ]
  },
  {
   "cell_type": "code",
   "execution_count": 10,
   "metadata": {},
   "outputs": [
    {
     "name": "stdout",
     "output_type": "stream",
     "text": [
      "<class 'pandas.core.frame.DataFrame'>\n",
      "Int64Index: 182892 entries, 0 to 194672\n",
      "Data columns (total 61 columns):\n",
      " #   Column                                             Non-Null Count   Dtype\n",
      "---  ------                                             --------------   -----\n",
      " 0   SEVERITYCODE                                       182892 non-null  int64\n",
      " 1   STATUS                                             182892 non-null  int64\n",
      " 2   PERSONCOUNT                                        182892 non-null  int64\n",
      " 3   PEDCOUNT                                           182892 non-null  int64\n",
      " 4   PEDCYLCOUNT                                        182892 non-null  int64\n",
      " 5   VEHCOUNT                                           182892 non-null  int64\n",
      " 6   SDOT_COLCODE                                       182892 non-null  int64\n",
      " 7   UNDERINFL                                          182892 non-null  int64\n",
      " 8   ST_COLCODE                                         182892 non-null  int64\n",
      " 9   SEGLANEKEY                                         182892 non-null  int64\n",
      " 10  CROSSWALKKEY                                       182892 non-null  int64\n",
      " 11  HITPARKEDCAR                                       182892 non-null  int64\n",
      " 12  Alley                                              182892 non-null  uint8\n",
      " 13  Block                                              182892 non-null  uint8\n",
      " 14  Intersection                                       182892 non-null  uint8\n",
      " 15  Angles                                             182892 non-null  uint8\n",
      " 16  Cycles                                             182892 non-null  uint8\n",
      " 17  Head On                                            182892 non-null  uint8\n",
      " 18  Left Turn                                          182892 non-null  uint8\n",
      " 19  Other                                              182892 non-null  uint8\n",
      " 20  Parked Car                                         182892 non-null  uint8\n",
      " 21  Pedestrian                                         182892 non-null  uint8\n",
      " 22  Rear Ended                                         182892 non-null  uint8\n",
      " 23  Right Turn                                         182892 non-null  uint8\n",
      " 24  Sideswipe                                          182892 non-null  uint8\n",
      " 25  At Intersection (but not related to intersection)  182892 non-null  uint8\n",
      " 26  At Intersection (intersection related)             182892 non-null  uint8\n",
      " 27  Driveway Junction                                  182892 non-null  uint8\n",
      " 28  Mid-Block (but intersection related)               182892 non-null  uint8\n",
      " 29  Mid-Block (not related to intersection)            182892 non-null  uint8\n",
      " 30  Ramp Junction                                      182892 non-null  uint8\n",
      " 31  Unknown                                            182892 non-null  uint8\n",
      " 32  Blowing Sand/Dirt                                  182892 non-null  uint8\n",
      " 33  Clear                                              182892 non-null  uint8\n",
      " 34  Fog/Smog/Smoke                                     182892 non-null  uint8\n",
      " 35  Other                                              182892 non-null  uint8\n",
      " 36  Overcast                                           182892 non-null  uint8\n",
      " 37  Partly Cloudy                                      182892 non-null  uint8\n",
      " 38  Raining                                            182892 non-null  uint8\n",
      " 39  Severe Crosswind                                   182892 non-null  uint8\n",
      " 40  Sleet/Hail/Freezing Rain                           182892 non-null  uint8\n",
      " 41  Snowing                                            182892 non-null  uint8\n",
      " 42  Unknown                                            182892 non-null  uint8\n",
      " 43  Dry                                                182892 non-null  uint8\n",
      " 44  Ice                                                182892 non-null  uint8\n",
      " 45  Oil                                                182892 non-null  uint8\n",
      " 46  Other                                              182892 non-null  uint8\n",
      " 47  Sand/Mud/Dirt                                      182892 non-null  uint8\n",
      " 48  Snow/Slush                                         182892 non-null  uint8\n",
      " 49  Standing Water                                     182892 non-null  uint8\n",
      " 50  Unknown                                            182892 non-null  uint8\n",
      " 51  Wet                                                182892 non-null  uint8\n",
      " 52  Dark - No Street Lights                            182892 non-null  uint8\n",
      " 53  Dark - Street Lights Off                           182892 non-null  uint8\n",
      " 54  Dark - Street Lights On                            182892 non-null  uint8\n",
      " 55  Dark - Unknown Lighting                            182892 non-null  uint8\n",
      " 56  Dawn                                               182892 non-null  uint8\n",
      " 57  Daylight                                           182892 non-null  uint8\n",
      " 58  Dusk                                               182892 non-null  uint8\n",
      " 59  Other                                              182892 non-null  uint8\n",
      " 60  Unknown                                            182892 non-null  uint8\n",
      "dtypes: int64(12), uint8(49)\n",
      "memory usage: 26.7 MB\n"
     ]
    }
   ],
   "source": [
    "df.info()"
   ]
  },
  {
   "cell_type": "code",
   "execution_count": 11,
   "metadata": {},
   "outputs": [],
   "source": [
    "# Separate majority and minority classes\n",
    "df_majority = df[df['SEVERITYCODE'] == 1]\n",
    "df_minority = df[df['SEVERITYCODE'] == 2]"
   ]
  },
  {
   "cell_type": "code",
   "execution_count": 12,
   "metadata": {},
   "outputs": [],
   "source": [
    "# Downsample majority class\n",
    "length = len(df_minority['SEVERITYCODE'])\n",
    "df_majority_downsampled = resample(df_majority, \n",
    "                                 replace = False,    # sample without replacement\n",
    "                                 n_samples = length,     # to match minority class\n",
    "                                 random_state = 0) # reproducible results"
   ]
  },
  {
   "cell_type": "code",
   "execution_count": 13,
   "metadata": {},
   "outputs": [],
   "source": [
    "# Combine minority class with downsampled majority class\n",
    "df_downsampled = pd.concat([df_majority_downsampled, df_minority])"
   ]
  },
  {
   "cell_type": "markdown",
   "metadata": {},
   "source": [
    "# Training"
   ]
  },
  {
   "cell_type": "code",
   "execution_count": 14,
   "metadata": {},
   "outputs": [],
   "source": [
    "from sklearn import metrics\n",
    "from sklearn.model_selection import train_test_split\n",
    "from sklearn.ensemble import GradientBoostingClassifier\n",
    "from sklearn.neighbors import KNeighborsClassifier\n",
    "from sklearn.tree import DecisionTreeClassifier\n",
    "from sklearn import svm\n",
    "from sklearn.linear_model import LogisticRegression"
   ]
  },
  {
   "cell_type": "code",
   "execution_count": 15,
   "metadata": {},
   "outputs": [],
   "source": [
    "#deviding into x and y\n",
    "y = df_downsampled['SEVERITYCODE']\n",
    "X = df_downsampled[df_downsampled.columns[1:]]\n",
    "\n",
    "X = preprocessing.StandardScaler().fit(X).transform(X)"
   ]
  },
  {
   "cell_type": "code",
   "execution_count": 16,
   "metadata": {},
   "outputs": [
    {
     "name": "stdout",
     "output_type": "stream",
     "text": [
      "Gradient Train set Accuracy:  0.7150493324228224\n",
      "Gradient Test set Accuracy:  0.7165159649618537\n"
     ]
    }
   ],
   "source": [
    "#train test split and model fitting\n",
    "X_train, X_test, y_train, y_test = train_test_split(X, y)\n",
    "\n",
    "clf = GradientBoostingClassifier().fit(X_train, y_train)\n",
    "tree = DecisionTreeClassifier(criterion=\"entropy\", max_depth = 5).fit(X_train, y_train)\n",
    "reg = LogisticRegression(C=0.4, solver='liblinear').fit(X_train,y_train)"
   ]
  },
  {
   "cell_type": "code",
   "execution_count": null,
   "metadata": {},
   "outputs": [],
   "source": [
    "from sklearn.metrics import jaccard_similarity_score\n",
    "from sklearn.metrics import f1_score\n",
    "\n",
    "index = ['Gradient Boost', 'Decision Tree', 'LogisticRegression']\n",
    "\n",
    "report_clf = [metrics.accuracy_score(y_train, clf.predict(X_train)), \n",
    "              metrics.accuracy_score(y_test, clf.predict(X_test)), \n",
    "              jaccard_similarity_score(y_t, clf.predict(X_t)), \n",
    "              f1_score(y_t, clf.predict(X_t), average='weighted')]\n",
    "\n",
    "report_tree = [metrics.accuracy_score(y_train, tree.predict(X_train)), \n",
    "               metrics.accuracy_score(y_test, tree.predict(X_test)), \n",
    "               jaccard_similarity_score(y_t, tree.predict(X_t)), \n",
    "               f1_score(y_t, tree.predict(X_t), average='weighted')]\n",
    "\n",
    "report_reg = [metrics.accuracy_score(y_train, reg.predict(X_train)), \n",
    "              metrics.accuracy_score(y_test, reg.predict(X_test)), \n",
    "              jaccard_similarity_score(y_t, reg.predict(X_t)), \n",
    "              f1_score(y_t, reg.predict(X_t), average='weighted')]"
   ]
  },
  {
   "cell_type": "code",
   "execution_count": null,
   "metadata": {},
   "outputs": [],
   "source": [
    "report = pd.DataFrame([report_clf, report_tree, report_reg], \n",
    "                      index = index, \n",
    "                      columns = ['Train set Accuracy', 'Test set Accuracy', 'Jaccard', 'F1-score'])"
   ]
  },
  {
   "cell_type": "code",
   "execution_count": null,
   "metadata": {},
   "outputs": [],
   "source": [
    "report"
   ]
  }
 ],
 "metadata": {
  "kernelspec": {
   "display_name": "Python 3",
   "language": "python",
   "name": "python3"
  },
  "language_info": {
   "codemirror_mode": {
    "name": "ipython",
    "version": 3
   },
   "file_extension": ".py",
   "mimetype": "text/x-python",
   "name": "python",
   "nbconvert_exporter": "python",
   "pygments_lexer": "ipython3",
   "version": "3.7.6"
  }
 },
 "nbformat": 4,
 "nbformat_minor": 4
}
